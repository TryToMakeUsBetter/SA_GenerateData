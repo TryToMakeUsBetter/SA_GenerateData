{
 "cells": [
  {
   "attachments": {},
   "cell_type": "markdown",
   "id": "d9b3811d-6bb6-4ce6-83ee-ef851a25dec9",
   "metadata": {},
   "source": [
    "# 问题描述\n",
    "根据均值和标准差，反推数据\n",
    "图例\n",
    "[图例](./)\n",
    "存在8个评价维度\n",
    "年龄\n",
    "性别\n",
    "```\n",
    "维度1属性 数量 均值   标准差\n",
    "\n",
    ">= 60岁   64  24.58   3.62\n",
    "\n",
    "< 60岁    44  25.34   3.75\n",
    "\n",
    "维度2属性 数量 均值   标准差\n",
    "\n",
    "男        71  24.92   3.68\n",
    "\n",
    "女        37  24.83   3.63\n",
    "\n",
    "总体样本  数量  均值  标准差\n",
    "          108  24.89 3.67\n",
    "```"
   ]
  },
  {
   "cell_type": "code",
   "execution_count": 87,
   "id": "9573631b-bec5-41f1-8c6f-eab3d4c76690",
   "metadata": {},
   "outputs": [],
   "source": [
    "import numpy as np"
   ]
  },
  {
   "cell_type": "code",
   "execution_count": 88,
   "id": "704911a6-43dd-45c3-8e87-e5be988dafa0",
   "metadata": {},
   "outputs": [],
   "source": [
    "# 参数\n",
    "length = 108     # 数组长度\n",
    "min_value = 8    # 最小值\n",
    "max_value = 40   # 最大值"
   ]
  },
  {
   "cell_type": "code",
   "execution_count": 106,
   "id": "3492c21c-6bed-470c-99bf-0bdc972a77c1",
   "metadata": {},
   "outputs": [
    {
     "name": "stdout",
     "output_type": "stream",
     "text": [
      "总体标准差: 3.67\n"
     ]
    }
   ],
   "source": [
    "# 数据\n",
    "age_groups = {'>= 60岁': {'count': 64, 'mean': 24.58, 'std': 3.62},\n",
    "              '< 60岁': {'count': 44, 'mean': 25.34, 'std': 3.75}}\n",
    "\n",
    "gender_groups = {'男': {'count': 71, 'mean': 24.92, 'std': 3.68},\n",
    "                 '女': {'count': 37, 'mean': 24.83, 'std': 3.63}}\n",
    "\n",
    "# 计算每个组的方差\n",
    "age_groups['>= 60岁']['var'] = age_groups['>= 60岁']['std'] ** 2\n",
    "age_groups['< 60岁']['var'] = age_groups['< 60岁']['std'] ** 2\n",
    "\n",
    "gender_groups['男']['var'] = gender_groups['男']['std'] ** 2\n",
    "gender_groups['女']['var'] = gender_groups['女']['std'] ** 2\n",
    "\n",
    "# 计算总体均值\n",
    "mean_age = (age_groups['>= 60岁']['count'] * age_groups['>= 60岁']['mean'] + \n",
    "            age_groups['< 60岁']['count'] * age_groups['< 60岁']['mean']) / \\\n",
    "           (age_groups['>= 60岁']['count'] + age_groups['< 60岁']['count'])\n",
    "\n",
    "mean_gender = (gender_groups['男']['count'] * gender_groups['男']['mean'] + \n",
    "               gender_groups['女']['count'] * gender_groups['女']['mean']) / \\\n",
    "              (gender_groups['男']['count'] + gender_groups['女']['count'])\n",
    "\n",
    "# 计算总样本量和加权均值\n",
    "N = sum([age_groups['>= 60岁']['count'], age_groups['< 60岁']['count'],\n",
    "         gender_groups['男']['count'], gender_groups['女']['count']])\n",
    "\n",
    "mean_total = (age_groups['>= 60岁']['count'] * age_groups['>= 60岁']['mean'] +\n",
    "              age_groups['< 60岁']['count'] * age_groups['< 60岁']['mean'] +\n",
    "              gender_groups['男']['count'] * gender_groups['男']['mean'] +\n",
    "              gender_groups['女']['count'] * gender_groups['女']['mean']) / N\n",
    "\n",
    "# 计算加权方差\n",
    "var_total = (age_groups['>= 60岁']['count'] * age_groups['>= 60岁']['var'] +\n",
    "             age_groups['< 60岁']['count'] * age_groups['< 60岁']['var'] +\n",
    "             gender_groups['男']['count'] * gender_groups['男']['var'] +\n",
    "             gender_groups['女']['count'] * gender_groups['女']['var']) / N\n",
    "\n",
    "# 总体标准差\n",
    "std_total = np.sqrt(var_total)\n",
    "std_total = round(std_total, 2)\n",
    "\n",
    "print(f\"总体标准差: {std_total}\")"
   ]
  },
  {
   "cell_type": "code",
   "execution_count": 107,
   "id": "1dba4348-b7a3-491d-8628-fb6eae2349b5",
   "metadata": {},
   "outputs": [
    {
     "name": "stdout",
     "output_type": "stream",
     "text": [
      "总体均值: 24.89\n"
     ]
    }
   ],
   "source": [
    "# 给定数据\n",
    "age_groups = {'>= 60岁': {'count': 64, 'mean': 24.58},\n",
    "              '< 60岁': {'count': 44, 'mean': 25.34}}\n",
    "\n",
    "gender_groups = {'男': {'count': 71, 'mean': 24.92},\n",
    "                 '女': {'count': 37, 'mean': 24.83}}\n",
    "\n",
    "# 计算年龄分组的加权均值\n",
    "mean_age = (age_groups['>= 60岁']['count'] * age_groups['>= 60岁']['mean'] + \n",
    "            age_groups['< 60岁']['count'] * age_groups['< 60岁']['mean']) / \\\n",
    "           (age_groups['>= 60岁']['count'] + age_groups['< 60岁']['count'])\n",
    "\n",
    "# 计算性别分组的加权均值\n",
    "mean_gender = (gender_groups['男']['count'] * gender_groups['男']['mean'] + \n",
    "               gender_groups['女']['count'] * gender_groups['女']['mean']) / \\\n",
    "              (gender_groups['男']['count'] + gender_groups['女']['count'])\n",
    "\n",
    "# 计算总体均值（按年龄和性别分组加权均值）\n",
    "total_count = sum([age_groups['>= 60岁']['count'], age_groups['< 60岁']['count'],\n",
    "                   gender_groups['男']['count'], gender_groups['女']['count']])\n",
    "\n",
    "# 总体均值的加权平均\n",
    "mean_total = (age_groups['>= 60岁']['count'] * age_groups['>= 60岁']['mean'] +\n",
    "              age_groups['< 60岁']['count'] * age_groups['< 60岁']['mean'] +\n",
    "              gender_groups['男']['count'] * gender_groups['男']['mean'] +\n",
    "              gender_groups['女']['count'] * gender_groups['女']['mean']) / total_count\n",
    "\n",
    "mean_total = round(mean_total,2)\n",
    "# 输出结果\n",
    "print(f\"总体均值: {mean_total}\")"
   ]
  },
  {
   "cell_type": "markdown",
   "id": "8aa80e53-7630-46f1-a246-193f16fd1e83",
   "metadata": {},
   "source": [
    "## 定义\n",
    "定义一组Patient数组，\n",
    "[0-16]为女性，[17-87]为男性，[88-107]仍然为女性\n",
    "\n",
    "其中[0-63]代表>=60岁的情况，[64-107]代表<60岁的情况"
   ]
  },
  {
   "cell_type": "code",
   "execution_count": 123,
   "id": "45e9001f-f7de-46de-940c-4fae25d042f5",
   "metadata": {},
   "outputs": [
    {
     "name": "stdout",
     "output_type": "stream",
     "text": [
      "24.89 3.67\n",
      "[25.98 18.89 24.81 20.18 21.77 21.27 23.97 27.47 29.88 25.87 23.29 21.14\n",
      " 29.68 26.6  31.09 24.54 23.09 25.15 23.49 22.68 27.85 27.4  20.01 30.39\n",
      " 27.52 26.15 26.88 19.54 24.55 23.28 24.88 18.67 19.34 24.01 19.79 29.45\n",
      " 20.39 26.33 18.44 22.71 24.52 20.29 25.48 19.03 23.58 25.95 27.43 19.42\n",
      " 25.49 20.71 25.57 24.45 21.56 25.63 21.25 27.22 24.36 27.71 24.08 26.09\n",
      " 21.73 31.68 27.01 35.08 20.28 29.3  28.05 21.05 25.92 24.55 30.19 20.1\n",
      " 27.43 26.58 20.32 24.23 21.42 21.64 32.49 25.81 27.08 20.69 30.57 24.06\n",
      " 23.   30.31 22.72 23.38 24.98 21.56 28.89 20.95 24.76 24.94 31.04 22.9\n",
      " 21.71 20.62 29.25 19.62 28.56 24.76 28.72 27.45 24.89 22.31 21.48 22.74]\n",
      "24.6 3.54\n"
     ]
    }
   ],
   "source": [
    "# 生成正态分布的随机数\n",
    "print(mean_total,std_total)\n",
    "array = np.round(np.random.normal(loc=mean_total, scale=std_total, size=length),2)\n",
    "# 打印结果\n",
    "# 1. 标准化数据（z-score标准化）\n",
    "standardized_data = (array - mean_total) / std_total\n",
    "\n",
    "# 2. 缩放到 [8, 40] 范围\n",
    "scaled_data = standardized_data * (max_value - min_value) / 2 + (max_value + min_value) / 2\n",
    "\n",
    "# 3. 恢复原均值和标准差\n",
    "final_data = scaled_data * std_total + mean_total\n",
    "\n",
    "\n",
    "tmp_mean = round(np.mean(array),2)\n",
    "tmp_std_dev = round(np.std(array),2)\n",
    "# 打印结果\n",
    "print(array)\n",
    "print(tmp_mean,tmp_std_dev)"
   ]
  },
  {
   "cell_type": "code",
   "execution_count": 97,
   "id": "62b5fab2-01a7-46a1-8918-bad28611b2c0",
   "metadata": {},
   "outputs": [],
   "source": [
    "def calc_mean_and_std(numbers):\n",
    "    # 计算均值和标准差\n",
    "    mean = np.mean(numbers)\n",
    "    std_dev = np.std(numbers)\n",
    "    mean = round(mean, 2)\n",
    "    std_dev = round(std_dev, 2)\n",
    "    return mean, std_dev"
   ]
  },
  {
   "cell_type": "code",
   "execution_count": 98,
   "id": "c68029f0-baa3-478f-93da-a20adec58e7c",
   "metadata": {},
   "outputs": [],
   "source": [
    "def calc_mean_and_std_discontinuous(arr1, arr2):\n",
    "    # 合并所有区间的整数\n",
    "    numbers = np.concatenate((arr1, arr2))\n",
    "    \n",
    "    # 计算均值和标准差\n",
    "    mean = np.mean(numbers)\n",
    "    std_dev = np.std(numbers)\n",
    "    mean = round(mean, 2)\n",
    "    std_dev = round(std_dev, 2)\n",
    "    return mean, std_dev"
   ]
  },
  {
   "cell_type": "code",
   "execution_count": 99,
   "id": "33b34a01-d868-4bf5-98ce-6a9613c0cfec",
   "metadata": {},
   "outputs": [],
   "source": [
    "target_man_mean = 24.92\n",
    "target_woman_mean = 24.83\n",
    "target_gte60_mean = 24.58\n",
    "target_lt60_mean = 24.58\n",
    "target_man_std = 3.68\n",
    "target_woman_std = 3.63 \n",
    "target_gte60_std = 3.62\n",
    "target_lt60_std = 3.75"
   ]
  },
  {
   "cell_type": "code",
   "execution_count": 100,
   "id": "baffabd6-8c3c-44db-92d2-1c8d1af40c52",
   "metadata": {},
   "outputs": [],
   "source": [
    "man_left,man_right = 17,88\n",
    "woman_left_left,woman_left_right = 0,17\n",
    "woman_right_left,woman_right_right = 88,108\n",
    "gte60_left,gte60_right = 0,64\n",
    "lt60_left,lt60_right = 64,108"
   ]
  },
  {
   "cell_type": "code",
   "execution_count": 101,
   "id": "1dab2fcc-5ecc-4756-a0df-f1de13324120",
   "metadata": {},
   "outputs": [],
   "source": [
    "man_mean,man_std = calc_mean_and_std(array[man_left:man_right])\n",
    "woman_mean,woman_std = calc_mean_and_std_discontinuous(array[woman_left_left:woman_left_right],array[woman_right_left:woman_right_right])\n",
    "gte60_mean,gte60_std = calc_mean_and_std(array[gte60_left:gte60_right])\n",
    "lt60_mean,lt60_std = calc_mean_and_std(array[lt60_left:lt60_right])"
   ]
  },
  {
   "cell_type": "code",
   "execution_count": 102,
   "id": "af4637c4-c71d-42cc-ace8-9b5d48186050",
   "metadata": {},
   "outputs": [
    {
     "name": "stdout",
     "output_type": "stream",
     "text": [
      "24.38 3.84\n",
      "25.04 4.17\n",
      "24.62 3.77\n",
      "24.58 4.24\n"
     ]
    }
   ],
   "source": [
    "print(man_mean,man_std)\n",
    "print(woman_mean,woman_std)\n",
    "print(gte60_mean,gte60_std)\n",
    "print(lt60_mean,lt60_std)"
   ]
  },
  {
   "cell_type": "code",
   "execution_count": null,
   "id": "6f73fcfd-6695-4bdb-beeb-2e6dd20478ef",
   "metadata": {},
   "outputs": [],
   "source": []
  }
 ],
 "metadata": {
  "kernelspec": {
   "display_name": "Python 3 (ipykernel)",
   "language": "python",
   "name": "python3"
  },
  "language_info": {
   "codemirror_mode": {
    "name": "ipython",
    "version": 3
   },
   "file_extension": ".py",
   "mimetype": "text/x-python",
   "name": "python",
   "nbconvert_exporter": "python",
   "pygments_lexer": "ipython3",
   "version": "3.9.21"
  }
 },
 "nbformat": 4,
 "nbformat_minor": 5
}
