{
 "cells": [
  {
   "attachments": {},
   "cell_type": "markdown",
   "id": "d9b3811d-6bb6-4ce6-83ee-ef851a25dec9",
   "metadata": {},
   "source": [
    "# 问题描述\n",
    "根据均值和标准差，反推数据\n",
    "图例\n",
    "[图例](./)\n",
    "存在8个评价维度\n",
    "年龄\n",
    "性别\n",
    "```\n",
    "维度1属性 数量 均值   标准差\n",
    "\n",
    ">= 60岁   64  24.58   3.62\n",
    "\n",
    "< 60岁    44  25.34   3.75\n",
    "\n",
    "维度2属性 数量 均值   标准差\n",
    "\n",
    "男        71  24.92   3.68\n",
    "\n",
    "女        37  24.83   3.63\n",
    "\n",
    "总体样本  数量  均值  标准差\n",
    "          108  24.89 3.67\n",
    "```"
   ]
  },
  {
   "cell_type": "code",
   "execution_count": 124,
   "id": "9573631b-bec5-41f1-8c6f-eab3d4c76690",
   "metadata": {},
   "outputs": [],
   "source": [
    "import numpy as np"
   ]
  },
  {
   "cell_type": "code",
   "execution_count": 125,
   "id": "704911a6-43dd-45c3-8e87-e5be988dafa0",
   "metadata": {},
   "outputs": [],
   "source": [
    "# 参数\n",
    "length = 108     # 数组长度\n",
    "min_value = 8    # 最小值\n",
    "max_value = 40   # 最大值"
   ]
  },
  {
   "cell_type": "code",
   "execution_count": 126,
   "id": "3492c21c-6bed-470c-99bf-0bdc972a77c1",
   "metadata": {},
   "outputs": [
    {
     "name": "stdout",
     "output_type": "stream",
     "text": [
      "总体标准差: 3.67\n"
     ]
    }
   ],
   "source": [
    "# 数据\n",
    "age_groups = {'>= 60岁': {'count': 64, 'mean': 24.58, 'std': 3.62},\n",
    "              '< 60岁': {'count': 44, 'mean': 25.34, 'std': 3.75}}\n",
    "\n",
    "gender_groups = {'男': {'count': 71, 'mean': 24.92, 'std': 3.68},\n",
    "                 '女': {'count': 37, 'mean': 24.83, 'std': 3.63}}\n",
    "\n",
    "# 计算每个组的方差\n",
    "age_groups['>= 60岁']['var'] = age_groups['>= 60岁']['std'] ** 2\n",
    "age_groups['< 60岁']['var'] = age_groups['< 60岁']['std'] ** 2\n",
    "\n",
    "gender_groups['男']['var'] = gender_groups['男']['std'] ** 2\n",
    "gender_groups['女']['var'] = gender_groups['女']['std'] ** 2\n",
    "\n",
    "# 计算总体均值\n",
    "mean_age = (age_groups['>= 60岁']['count'] * age_groups['>= 60岁']['mean'] + \n",
    "            age_groups['< 60岁']['count'] * age_groups['< 60岁']['mean']) / \\\n",
    "           (age_groups['>= 60岁']['count'] + age_groups['< 60岁']['count'])\n",
    "\n",
    "mean_gender = (gender_groups['男']['count'] * gender_groups['男']['mean'] + \n",
    "               gender_groups['女']['count'] * gender_groups['女']['mean']) / \\\n",
    "              (gender_groups['男']['count'] + gender_groups['女']['count'])\n",
    "\n",
    "# 计算总样本量和加权均值\n",
    "N = sum([age_groups['>= 60岁']['count'], age_groups['< 60岁']['count'],\n",
    "         gender_groups['男']['count'], gender_groups['女']['count']])\n",
    "\n",
    "mean_total = (age_groups['>= 60岁']['count'] * age_groups['>= 60岁']['mean'] +\n",
    "              age_groups['< 60岁']['count'] * age_groups['< 60岁']['mean'] +\n",
    "              gender_groups['男']['count'] * gender_groups['男']['mean'] +\n",
    "              gender_groups['女']['count'] * gender_groups['女']['mean']) / N\n",
    "\n",
    "# 计算加权方差\n",
    "var_total = (age_groups['>= 60岁']['count'] * age_groups['>= 60岁']['var'] +\n",
    "             age_groups['< 60岁']['count'] * age_groups['< 60岁']['var'] +\n",
    "             gender_groups['男']['count'] * gender_groups['男']['var'] +\n",
    "             gender_groups['女']['count'] * gender_groups['女']['var']) / N\n",
    "\n",
    "# 总体标准差\n",
    "std_total = np.sqrt(var_total)\n",
    "std_total = round(std_total, 2)\n",
    "\n",
    "print(f\"总体标准差: {std_total}\")"
   ]
  },
  {
   "cell_type": "code",
   "execution_count": 127,
   "id": "1dba4348-b7a3-491d-8628-fb6eae2349b5",
   "metadata": {},
   "outputs": [
    {
     "name": "stdout",
     "output_type": "stream",
     "text": [
      "总体均值: 24.89\n"
     ]
    }
   ],
   "source": [
    "# 给定数据\n",
    "age_groups = {'>= 60岁': {'count': 64, 'mean': 24.58},\n",
    "              '< 60岁': {'count': 44, 'mean': 25.34}}\n",
    "\n",
    "gender_groups = {'男': {'count': 71, 'mean': 24.92},\n",
    "                 '女': {'count': 37, 'mean': 24.83}}\n",
    "\n",
    "# 计算年龄分组的加权均值\n",
    "mean_age = (age_groups['>= 60岁']['count'] * age_groups['>= 60岁']['mean'] + \n",
    "            age_groups['< 60岁']['count'] * age_groups['< 60岁']['mean']) / \\\n",
    "           (age_groups['>= 60岁']['count'] + age_groups['< 60岁']['count'])\n",
    "\n",
    "# 计算性别分组的加权均值\n",
    "mean_gender = (gender_groups['男']['count'] * gender_groups['男']['mean'] + \n",
    "               gender_groups['女']['count'] * gender_groups['女']['mean']) / \\\n",
    "              (gender_groups['男']['count'] + gender_groups['女']['count'])\n",
    "\n",
    "# 计算总体均值（按年龄和性别分组加权均值）\n",
    "total_count = sum([age_groups['>= 60岁']['count'], age_groups['< 60岁']['count'],\n",
    "                   gender_groups['男']['count'], gender_groups['女']['count']])\n",
    "\n",
    "# 总体均值的加权平均\n",
    "mean_total = (age_groups['>= 60岁']['count'] * age_groups['>= 60岁']['mean'] +\n",
    "              age_groups['< 60岁']['count'] * age_groups['< 60岁']['mean'] +\n",
    "              gender_groups['男']['count'] * gender_groups['男']['mean'] +\n",
    "              gender_groups['女']['count'] * gender_groups['女']['mean']) / total_count\n",
    "\n",
    "mean_total = round(mean_total,2)\n",
    "# 输出结果\n",
    "print(f\"总体均值: {mean_total}\")"
   ]
  },
  {
   "cell_type": "markdown",
   "id": "8aa80e53-7630-46f1-a246-193f16fd1e83",
   "metadata": {},
   "source": [
    "## 定义\n",
    "定义一组Patient数组，\n",
    "[0-16]为女性，[17-87]为男性，[88-107]仍然为女性\n",
    "\n",
    "其中[0-63]代表>=60岁的情况，[64-107]代表<60岁的情况"
   ]
  },
  {
   "cell_type": "code",
   "execution_count": 128,
   "id": "45e9001f-f7de-46de-940c-4fae25d042f5",
   "metadata": {},
   "outputs": [
    {
     "name": "stdout",
     "output_type": "stream",
     "text": [
      "24.89 3.67\n",
      "[25.42 21.54 26.96 27.44 20.24 24.45 27.42 22.42 25.23 25.84 30.96 20.99\n",
      " 17.58 23.89 29.79 22.49 24.47 26.47 20.21 26.21 26.56 28.69 18.24 25.8\n",
      " 28.77 22.23 24.12 27.18 17.75 21.25 23.68 22.17 25.67 21.58 22.87 22.81\n",
      " 25.2  24.   25.52 24.18 28.39 23.1  25.57 24.92 25.88 21.95 18.83 21.1\n",
      " 16.   23.65 27.33 24.6  21.46 17.79 22.62 21.78 28.72 22.32 23.16 26.08\n",
      " 23.16 26.48 22.22 23.37 28.3  28.41 26.41 22.07 21.12 25.59 22.1  23.85\n",
      " 19.47 28.12 19.39 25.62 27.35 24.98 27.63 30.29 20.87 24.62 20.24 23.67\n",
      " 26.17 25.41 21.73 25.98 23.76 25.69 26.9  22.58 28.25 28.42 27.88 20.06\n",
      " 27.31 31.53 20.93 27.58 25.09 26.57 27.46 28.94 24.3  22.32 23.07 20.87]\n",
      "24.33 3.15\n"
     ]
    }
   ],
   "source": [
    "# 生成正态分布的随机数\n",
    "print(mean_total,std_total)\n",
    "array = np.round(np.random.normal(loc=mean_total, scale=std_total, size=length),2)\n",
    "# 打印结果\n",
    "# 1. 标准化数据（z-score标准化）\n",
    "standardized_data = (array - mean_total) / std_total\n",
    "\n",
    "# 2. 缩放到 [8, 40] 范围\n",
    "scaled_data = standardized_data * (max_value - min_value) / 2 + (max_value + min_value) / 2\n",
    "\n",
    "# 3. 恢复原均值和标准差\n",
    "final_data = scaled_data * std_total + mean_total\n",
    "\n",
    "\n",
    "tmp_mean = round(np.mean(array),2)\n",
    "tmp_std_dev = round(np.std(array),2)\n",
    "# 打印结果\n",
    "print(array)\n",
    "print(tmp_mean,tmp_std_dev)"
   ]
  },
  {
   "cell_type": "code",
   "execution_count": 129,
   "id": "62b5fab2-01a7-46a1-8918-bad28611b2c0",
   "metadata": {},
   "outputs": [],
   "source": [
    "def calc_mean_and_std(numbers):\n",
    "    # 计算均值和标准差\n",
    "    mean = np.mean(numbers)\n",
    "    std_dev = np.std(numbers)\n",
    "    mean = round(mean, 2)\n",
    "    std_dev = round(std_dev, 2)\n",
    "    return mean, std_dev"
   ]
  },
  {
   "cell_type": "code",
   "execution_count": 130,
   "id": "c68029f0-baa3-478f-93da-a20adec58e7c",
   "metadata": {},
   "outputs": [],
   "source": [
    "def calc_mean_and_std_discontinuous(arr1, arr2):\n",
    "    # 合并所有区间的整数\n",
    "    numbers = np.concatenate((arr1, arr2))\n",
    "    \n",
    "    # 计算均值和标准差\n",
    "    mean = np.mean(numbers)\n",
    "    std_dev = np.std(numbers)\n",
    "    mean = round(mean, 2)\n",
    "    std_dev = round(std_dev, 2)\n",
    "    return mean, std_dev"
   ]
  },
  {
   "cell_type": "code",
   "execution_count": 131,
   "id": "33b34a01-d868-4bf5-98ce-6a9613c0cfec",
   "metadata": {},
   "outputs": [],
   "source": [
    "target_man_mean = 24.92\n",
    "target_woman_mean = 24.83\n",
    "target_gte60_mean = 24.58\n",
    "target_lt60_mean = 24.58\n",
    "target_man_std = 3.68\n",
    "target_woman_std = 3.63 \n",
    "target_gte60_std = 3.62\n",
    "target_lt60_std = 3.75"
   ]
  },
  {
   "cell_type": "code",
   "execution_count": 132,
   "id": "baffabd6-8c3c-44db-92d2-1c8d1af40c52",
   "metadata": {},
   "outputs": [],
   "source": [
    "man_left,man_right = 17,88\n",
    "woman_left_left,woman_left_right = 0,17\n",
    "woman_right_left,woman_right_right = 88,108\n",
    "gte60_left,gte60_right = 0,64\n",
    "lt60_left,lt60_right = 64,108"
   ]
  },
  {
   "cell_type": "code",
   "execution_count": 133,
   "id": "1dab2fcc-5ecc-4756-a0df-f1de13324120",
   "metadata": {},
   "outputs": [],
   "source": [
    "man_mean,man_std = calc_mean_and_std(array[man_left:man_right])\n",
    "woman_mean,woman_std = calc_mean_and_std_discontinuous(array[woman_left_left:woman_left_right],array[woman_right_left:woman_right_right])\n",
    "gte60_mean,gte60_std = calc_mean_and_std(array[gte60_left:gte60_right])\n",
    "lt60_mean,lt60_std = calc_mean_and_std(array[lt60_left:lt60_right])"
   ]
  },
  {
   "cell_type": "code",
   "execution_count": 134,
   "id": "af4637c4-c71d-42cc-ace8-9b5d48186050",
   "metadata": {},
   "outputs": [
    {
     "name": "stdout",
     "output_type": "stream",
     "text": [
      "23.96 3.04\n",
      "25.04 3.23\n",
      "23.89 3.12\n",
      "24.98 3.07\n"
     ]
    }
   ],
   "source": [
    "print(man_mean,man_std)\n",
    "print(woman_mean,woman_std)\n",
    "print(gte60_mean,gte60_std)\n",
    "print(lt60_mean,lt60_std)"
   ]
  },
  {
   "cell_type": "code",
   "execution_count": null,
   "id": "6f73fcfd-6695-4bdb-beeb-2e6dd20478ef",
   "metadata": {},
   "outputs": [],
   "source": []
  },
  {
   "cell_type": "code",
   "execution_count": null,
   "id": "db0c4c55-ceaa-40f6-9baa-9581c3507001",
   "metadata": {},
   "outputs": [],
   "source": []
  }
 ],
 "metadata": {
  "kernelspec": {
   "display_name": "Python 3 (ipykernel)",
   "language": "python",
   "name": "python3"
  },
  "language_info": {
   "codemirror_mode": {
    "name": "ipython",
    "version": 3
   },
   "file_extension": ".py",
   "mimetype": "text/x-python",
   "name": "python",
   "nbconvert_exporter": "python",
   "pygments_lexer": "ipython3",
   "version": "3.9.21"
  }
 },
 "nbformat": 4,
 "nbformat_minor": 5
}
